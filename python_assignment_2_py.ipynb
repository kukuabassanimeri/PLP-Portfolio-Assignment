{
  "nbformat": 4,
  "nbformat_minor": 0,
  "metadata": {
    "colab": {
      "provenance": [],
      "authorship_tag": "ABX9TyPEXScanKJZzJgH5+/Yupb2",
      "include_colab_link": true
    },
    "kernelspec": {
      "name": "python3",
      "display_name": "Python 3"
    },
    "language_info": {
      "name": "python"
    }
  },
  "cells": [
    {
      "cell_type": "markdown",
      "metadata": {
        "id": "view-in-github",
        "colab_type": "text"
      },
      "source": [
        "<a href=\"https://colab.research.google.com/github/kukuabassanimeri/PLP-Portfolio-Assignment/blob/master/python_assignment_2_py.ipynb\" target=\"_parent\"><img src=\"https://colab.research.google.com/assets/colab-badge.svg\" alt=\"Open In Colab\"/></a>"
      ]
    },
    {
      "cell_type": "code",
      "execution_count": 1,
      "metadata": {
        "colab": {
          "base_uri": "https://localhost:8080/"
        },
        "id": "4qb8tt0X3s34",
        "outputId": "b117dc0d-f08e-4246-f045-3720bf2a81f7"
      },
      "outputs": [
        {
          "output_type": "stream",
          "name": "stdout",
          "text": [
            "[10, 20, 30, 40]\n",
            "[10, 15, 30, 40]\n",
            "[10, 15, 30, 40, 50, 60, 70]\n",
            "[10, 15, 30, 40, 50, 60]\n",
            "[10, 15, 30, 40, 50, 60]\n",
            "The index of 30 is 2\n"
          ]
        }
      ],
      "source": [
        "#PYHTON ASSIGNMENT 2, WEEK 2\n",
        "#Create an empty list called my_list.\n",
        "my_list = []\n",
        "\n",
        "#Append the following elements to my_list: 10, 20, 30, 40.\n",
        "my_list.append(10)\n",
        "my_list.append(20)\n",
        "my_list.append(30)\n",
        "my_list.append(40)\n",
        "print(my_list)\n",
        "\n",
        "#Insert the value 15 at the second position in the list.\n",
        "my_list[1] = 15\n",
        "print(my_list)\n",
        "\n",
        "#Extend my_list with another list: [50, 60, 70].\n",
        "my_second_list = [50, 60, 70]\n",
        "my_list.extend(my_second_list)\n",
        "print(my_list)\n",
        "\n",
        "#Remove the last element from my_list.\n",
        "del my_list[-1]\n",
        "print(my_list)\n",
        "\n",
        "#Sort my_list in ascending order.\n",
        "my_list.sort()\n",
        "print(my_list)\n",
        "\n",
        "#Find and print the index of the value 30 in my_list.\n",
        "item_to_find = 30\n",
        "\n",
        "# Get the index of the item\n",
        "index_value = my_list.index(item_to_find)\n",
        "print(f\"The index of {item_to_find} is {index_value}\")"
      ]
    }
  ]
}